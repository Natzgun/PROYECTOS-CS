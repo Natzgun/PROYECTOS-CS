{
 "cells": [
  {
   "cell_type": "markdown",
   "id": "b19735b5",
   "metadata": {},
   "source": [
    "# INICIALIZACION"
   ]
  },
  {
   "cell_type": "code",
   "execution_count": 10,
   "id": "e0117ee7",
   "metadata": {},
   "outputs": [
    {
     "data": {
      "text/html": [
       "<div>\n",
       "<style scoped>\n",
       "    .dataframe tbody tr th:only-of-type {\n",
       "        vertical-align: middle;\n",
       "    }\n",
       "\n",
       "    .dataframe tbody tr th {\n",
       "        vertical-align: top;\n",
       "    }\n",
       "\n",
       "    .dataframe thead th {\n",
       "        text-align: right;\n",
       "    }\n",
       "</style>\n",
       "<table border=\"1\" class=\"dataframe\">\n",
       "  <thead>\n",
       "    <tr style=\"text-align: right;\">\n",
       "      <th></th>\n",
       "      <th>Curso</th>\n",
       "      <th>Horas</th>\n",
       "      <th>Requisito</th>\n",
       "      <th>Ciclo</th>\n",
       "      <th>Anio</th>\n",
       "    </tr>\n",
       "  </thead>\n",
       "  <tbody>\n",
       "    <tr>\n",
       "      <th>0</th>\n",
       "      <td>Fundamentos de CS</td>\n",
       "      <td>6</td>\n",
       "      <td>Ninguno</td>\n",
       "      <td>Primero</td>\n",
       "      <td>1ro</td>\n",
       "    </tr>\n",
       "    <tr>\n",
       "      <th>1</th>\n",
       "      <td>Arte Compuacional</td>\n",
       "      <td>4</td>\n",
       "      <td>Ninguno</td>\n",
       "      <td>Primero</td>\n",
       "      <td>1ro</td>\n",
       "    </tr>\n",
       "    <tr>\n",
       "      <th>2</th>\n",
       "      <td>Ciencia de la Computacion</td>\n",
       "      <td>5</td>\n",
       "      <td>Fundamentos de CS</td>\n",
       "      <td>Segundo</td>\n",
       "      <td>1ro</td>\n",
       "    </tr>\n",
       "    <tr>\n",
       "      <th>3</th>\n",
       "      <td>Programacion Competitiva</td>\n",
       "      <td>6</td>\n",
       "      <td>Fundamentos de CS</td>\n",
       "      <td>Sexto</td>\n",
       "      <td>3ro</td>\n",
       "    </tr>\n",
       "    <tr>\n",
       "      <th>4</th>\n",
       "      <td>Ingles</td>\n",
       "      <td>4</td>\n",
       "      <td>Ninguno</td>\n",
       "      <td>Primero</td>\n",
       "      <td>1ro</td>\n",
       "    </tr>\n",
       "    <tr>\n",
       "      <th>5</th>\n",
       "      <td>Ingles II</td>\n",
       "      <td>4</td>\n",
       "      <td>Ingles I</td>\n",
       "      <td>Segundo</td>\n",
       "      <td>1ro</td>\n",
       "    </tr>\n",
       "    <tr>\n",
       "      <th>6</th>\n",
       "      <td>Estructuras Discretas II</td>\n",
       "      <td>8</td>\n",
       "      <td>Discretas I</td>\n",
       "      <td>Segundo</td>\n",
       "      <td>1ro</td>\n",
       "    </tr>\n",
       "  </tbody>\n",
       "</table>\n",
       "</div>"
      ],
      "text/plain": [
       "                       Curso  Horas          Requisito    Ciclo Anio\n",
       "0          Fundamentos de CS      6            Ninguno  Primero  1ro\n",
       "1          Arte Compuacional      4            Ninguno  Primero  1ro\n",
       "2  Ciencia de la Computacion      5  Fundamentos de CS  Segundo  1ro\n",
       "3   Programacion Competitiva      6  Fundamentos de CS    Sexto  3ro\n",
       "4                     Ingles      4            Ninguno  Primero  1ro\n",
       "5                  Ingles II      4           Ingles I  Segundo  1ro\n",
       "6   Estructuras Discretas II      8        Discretas I  Segundo  1ro"
      ]
     },
     "execution_count": 10,
     "metadata": {},
     "output_type": "execute_result"
    }
   ],
   "source": [
    "import pandas as pd\n",
    "import csv\n",
    "import pathlib\n",
    "\n",
    "cursos = pd.read_csv(\"cursos.csv\")\n",
    "cursos"
   ]
  },
  {
   "cell_type": "code",
   "execution_count": 11,
   "id": "d7ad9f3e",
   "metadata": {},
   "outputs": [
    {
     "name": "stdin",
     "output_type": "stream",
     "text": [
      "Elige un numero:  1\n"
     ]
    },
    {
     "name": "stdout",
     "output_type": "stream",
     "text": [
      "\n",
      "Bienvenido a la Malla Curricular\n",
      "--------------------------\n",
      "                       Curso  Horas          Requisito    Ciclo Anio\n",
      "0          Fundamentos de CS      6            Ninguno  Primero  1ro\n",
      "1          Arte Compuacional      4            Ninguno  Primero  1ro\n",
      "2  Ciencia de la Computacion      5  Fundamentos de CS  Segundo  1ro\n",
      "3   Programacion Competitiva      6  Fundamentos de CS    Sexto  3ro\n",
      "4                     Ingles      4            Ninguno  Primero  1ro\n",
      "5                  Ingles II      4           Ingles I  Segundo  1ro\n",
      "6   Estructuras Discretas II      8        Discretas I  Segundo  1ro\n"
     ]
    }
   ],
   "source": [
    "n = int(input('Elige un numero: '))\n",
    "\n",
    "if n == 1:\n",
    "    print('\\nBienvenido a la Malla Curricular\\n--------------------------')\n",
    "    print(cursos)\n",
    "else:\n",
    "    print('Por favor escriba el numero 1')"
   ]
  },
  {
   "cell_type": "markdown",
   "id": "d0c1b991-4769-42ff-b4c2-7cc39f747f67",
   "metadata": {},
   "source": [
    "##AGREGAR UN NUEVO CURSO"
   ]
  },
  {
   "cell_type": "code",
   "execution_count": 9,
   "id": "f23e7779-225d-4394-bf36-838b9bd6fbae",
   "metadata": {},
   "outputs": [
    {
     "name": "stdin",
     "output_type": "stream",
     "text": [
      "Cuantos cursos desea registrar:  1\n"
     ]
    },
    {
     "name": "stdout",
     "output_type": "stream",
     "text": [
      "Curso 1\n"
     ]
    },
    {
     "name": "stdin",
     "output_type": "stream",
     "text": [
      "Curso:  Estructuras Discretas II\n",
      "Hora:  8\n",
      "Requisito:  Discretas I\n",
      "Ciclos:  Segundo\n",
      "Anio:  1ro\n"
     ]
    }
   ],
   "source": [
    "def registrarCurso(cursos):\n",
    "    cant = int(input('Cuantos cursos desea registrar: '))\n",
    "    campos = ['Curso', 'Horas', 'Requisito', 'Ciclo', 'Anio']\n",
    "    if not pathlib.Path(cursos).exists():\n",
    "        with open(cursos, 'w', newline='') as archCSV:\n",
    "            writer = csv.DictWriter(archCSV, fieldnames =campos)\n",
    "            writer.writeheader()\n",
    "    with open(cursos, 'a', newline='') as archCSV:\n",
    "            writer = csv.DictWriter(archCSV, fieldnames =campos)\n",
    "            for i in range(cant):\n",
    "                print(f'Curso {i+1}')\n",
    "                curso = input('Curso: ')\n",
    "                hora = input('Hora: ')\n",
    "                requisitos = input('Requisito: ')\n",
    "                ciclos = input('Ciclos: ')\n",
    "                anio = input('Anio: ') \n",
    "                writer.writerow({'Curso': curso,\n",
    "                                 'Horas': hora,\n",
    "                                 'Requisito': requisitos,\n",
    "                                 'Ciclo': ciclos,\n",
    "                                 'Anio': anio\n",
    "                                })\n",
    "\n",
    "def main():\n",
    "    archivo = 'cursos.csv'\n",
    "    registrarCurso(archivo)\n",
    "if __name__ == '__main__':\n",
    "    main()\n",
    "        \n",
    "        "
   ]
  },
  {
   "cell_type": "code",
   "execution_count": null,
   "id": "fa4a5fa6-e397-41b8-97fb-f334f1f4410c",
   "metadata": {},
   "outputs": [],
   "source": [
    "#import pandas as pd\n",
    "import csv\n",
    "\n",
    "def registrarCursos(cursos):\n",
    "    cant = int(input('Cuantos cursos desea registrar: '))\n",
    "    with open(cursos, 'a', newline='') as archCSV:\n",
    "        escribir = csv.writer(archCSV, delimiter=',')\n",
    "        for i in range(cant):\n",
    "                curso = input('Curso: ')\n",
    "                hora = input('Hora: ')\n",
    "                requisitos = input('Requisito: ')\n",
    "                ciclos = input('Ciclos: ')\n",
    "                anio = input('Anio: ') \n",
    "                escribir.writerow([curso,hora,requisitos,ciclos,anio])\n",
    "def main():\n",
    "    archivo = 'cursoos.csv'\n",
    "    registrarCursos(archivo)\n",
    "if __name__ == '__main__':\n",
    "    main()\n",
    "        \n",
    "        "
   ]
  },
  {
   "cell_type": "code",
   "execution_count": null,
   "id": "3e5f3caa-7295-4267-95c6-6a9a2cc049f4",
   "metadata": {},
   "outputs": [],
   "source": []
  }
 ],
 "metadata": {
  "kernelspec": {
   "display_name": "Python 3 (ipykernel)",
   "language": "python",
   "name": "python3"
  },
  "language_info": {
   "codemirror_mode": {
    "name": "ipython",
    "version": 3
   },
   "file_extension": ".py",
   "mimetype": "text/x-python",
   "name": "python",
   "nbconvert_exporter": "python",
   "pygments_lexer": "ipython3",
   "version": "3.9.12"
  }
 },
 "nbformat": 4,
 "nbformat_minor": 5
}
